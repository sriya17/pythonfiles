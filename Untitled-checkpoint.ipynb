{
 "cells": [
  {
   "cell_type": "code",
   "execution_count": 1,
   "metadata": {},
   "outputs": [
    {
     "name": "stdout",
     "output_type": "stream",
     "text": [
      "sdfg345f567\n",
      "count is: 6 sum of digits is: 30\n"
     ]
    }
   ],
   "source": [
    "s = input()\n",
    "i = 0\n",
    "count = 0\n",
    "sum = 0\n",
    "while i<len(s):\n",
    "    if s[i].isdigit():\n",
    "        count += 1\n",
    "        sum += int(s[i])\n",
    "    i += 1\n",
    "print(\"count is:\",count,\"sum of digits is:\",sum)"
   ]
  },
  {
   "cell_type": "code",
   "execution_count": 3,
   "metadata": {},
   "outputs": [
    {
     "name": "stdout",
     "output_type": "stream",
     "text": [
      "enter a number10\n",
      "1 3 5 7 9 "
     ]
    }
   ],
   "source": [
    "n = int(input(\"enter a number\"))\n",
    "for i in range(1,n+1,2):\n",
    "    print(i,end=\" \")\n",
    "\n",
    "\n",
    "\n"
   ]
  },
  {
   "cell_type": "code",
   "execution_count": 4,
   "metadata": {},
   "outputs": [
    {
     "name": "stdout",
     "output_type": "stream",
     "text": [
      "python\n",
      "p y t h o n \n",
      "p y t h o n \n",
      "p y t h o n "
     ]
    }
   ],
   "source": [
    "s = input()\n",
    "i = 0\n",
    "while i<len(s):\n",
    "    print(s[i],end=\" \")\n",
    "    i+=1\n",
    "print()\n",
    "for i in range(0,len(s)):\n",
    "    print(s[i],end=\" \")\n",
    "print()\n",
    "for i in s:\n",
    "    print(i,end=\" \")"
   ]
  },
  {
   "cell_type": "markdown",
   "metadata": {},
   "source": [
    "##list\n",
    "1. for creating a list use []\n",
    "2. list are mutable\n",
    "3. list are indexed\n",
    "4. list are ordered\n",
    "5. list allows duplicate values\n",
    "6. it strores heterogenous values"
   ]
  },
  {
   "cell_type": "code",
   "execution_count": 12,
   "metadata": {},
   "outputs": [
    {
     "name": "stdout",
     "output_type": "stream",
     "text": [
      "[1, 8, 9]\n",
      "[456, 56]\n",
      "gnirts\n",
      "8\n"
     ]
    }
   ],
   "source": [
    "list1 = [23,34,456,56,67,\"string\",True,[1,8,9]]\n",
    "print(list1[-1])\n",
    "print(list1[2:4])\n",
    "print(list1[5][::-1])\n",
    "print(list1[-1][1])"
   ]
  },
  {
   "cell_type": "code",
   "execution_count": 13,
   "metadata": {},
   "outputs": [
    {
     "name": "stdout",
     "output_type": "stream",
     "text": [
      "before adding elements: [34, 45, 56, 67]\n",
      "after adding elements: [34, 45, 56, 67, 100, 200, 300]\n"
     ]
    }
   ],
   "source": [
    "list1 = [34,45,56,67]\n",
    "print(\"before adding elements:\",list1)\n",
    "list1.append(100)\n",
    "list1.append(200)\n",
    "list1.append(300)\n",
    "print(\"after adding elements:\",list1)"
   ]
  },
  {
   "cell_type": "code",
   "execution_count": 14,
   "metadata": {},
   "outputs": [
    {
     "data": {
      "text/plain": [
       "[34, 400, 45, 56, 67, 100, 200, 300]"
      ]
     },
     "execution_count": 14,
     "metadata": {},
     "output_type": "execute_result"
    }
   ],
   "source": [
    "list1.insert(1,400)\n",
    "list1"
   ]
  },
  {
   "cell_type": "code",
   "execution_count": 15,
   "metadata": {},
   "outputs": [],
   "source": [
    "list1.extend([1,2,3])"
   ]
  },
  {
   "cell_type": "code",
   "execution_count": 16,
   "metadata": {},
   "outputs": [
    {
     "name": "stdout",
     "output_type": "stream",
     "text": [
      "[]\n"
     ]
    }
   ],
   "source": [
    "#removing elements from the list\n",
    "#list1.pop\n",
    "#list1.remove\n",
    "list1.clear()\n",
    "print(list1)"
   ]
  },
  {
   "cell_type": "code",
   "execution_count": 17,
   "metadata": {},
   "outputs": [
    {
     "data": {
      "text/plain": [
       "[79, 68, 67, 56, 45, 34, 7, 2]"
      ]
     },
     "execution_count": 17,
     "metadata": {},
     "output_type": "execute_result"
    }
   ],
   "source": [
    "#sorting a list\n",
    "list1 = [34,56,7,68,79,2,45,67] \n",
    "list1.sort(reverse = True)\n",
    "list1"
   ]
  },
  {
   "cell_type": "code",
   "execution_count": 18,
   "metadata": {},
   "outputs": [
    {
     "data": {
      "text/plain": [
       "[2, 7, 34, 45, 56, 67, 68, 79]"
      ]
     },
     "execution_count": 18,
     "metadata": {},
     "output_type": "execute_result"
    }
   ],
   "source": [
    "#reversing a list\n",
    "list1.reverse()\n",
    "list1"
   ]
  },
  {
   "cell_type": "code",
   "execution_count": 20,
   "metadata": {},
   "outputs": [
    {
     "data": {
      "text/plain": [
       "4"
      ]
     },
     "execution_count": 20,
     "metadata": {},
     "output_type": "execute_result"
    }
   ],
   "source": [
    "list1.index(56)"
   ]
  },
  {
   "cell_type": "code",
   "execution_count": 21,
   "metadata": {},
   "outputs": [
    {
     "data": {
      "text/plain": [
       "1"
      ]
     },
     "execution_count": 21,
     "metadata": {},
     "output_type": "execute_result"
    }
   ],
   "source": [
    "list1.count(45)"
   ]
  },
  {
   "cell_type": "code",
   "execution_count": 22,
   "metadata": {},
   "outputs": [
    {
     "name": "stdout",
     "output_type": "stream",
     "text": [
      "[2, 7, 34, 45, 56, 67, 68, 79]   [2, 7, 34, 45, 56, 67, 68, 79]\n"
     ]
    }
   ],
   "source": [
    "list2 = list1\n",
    "print(list1,\" \",list2)"
   ]
  },
  {
   "cell_type": "code",
   "execution_count": 23,
   "metadata": {},
   "outputs": [
    {
     "data": {
      "text/plain": [
       "[2, 7, 34, 45, 56, 67, 68, 79]"
      ]
     },
     "execution_count": 23,
     "metadata": {},
     "output_type": "execute_result"
    }
   ],
   "source": [
    "list3 = list1.copy()\n",
    "list3"
   ]
  },
  {
   "cell_type": "code",
   "execution_count": null,
   "metadata": {},
   "outputs": [],
   "source": [
    "list3 = [2,4,5,7,8]\n"
   ]
  },
  {
   "cell_type": "code",
   "execution_count": 24,
   "metadata": {},
   "outputs": [
    {
     "data": {
      "text/plain": [
       "4"
      ]
     },
     "execution_count": 24,
     "metadata": {},
     "output_type": "execute_result"
    }
   ],
   "source": [
    "2**2"
   ]
  },
  {
   "cell_type": "code",
   "execution_count": 27,
   "metadata": {},
   "outputs": [
    {
     "name": "stdout",
     "output_type": "stream",
     "text": [
      "[4, 16, 25, 49, 64]\n",
      "[4, 16, 25, 49, 64]\n"
     ]
    }
   ],
   "source": [
    "l1 = [2,4,5,7,8]\n",
    "l2 = []\n",
    "l3 = []\n",
    "for i in range(0,len(l1)):\n",
    "    l2.append(l1[i]**2)\n",
    "print(l2)\n",
    "for i in l1: \n",
    "    l3.append(i**2)\n",
    "print(l3)"
   ]
  },
  {
   "cell_type": "code",
   "execution_count": 31,
   "metadata": {},
   "outputs": [
    {
     "name": "stdout",
     "output_type": "stream",
     "text": [
      "[2, 4, 6]\n"
     ]
    }
   ],
   "source": [
    "l1 = [2,3,4,5,6]\n",
    "l2 = []\n",
    "for i in range(0,len(l1)):\n",
    "    if l1[i]%2 == 0:\n",
    "        l2.append(l1[i])\n",
    "print(l2)"
   ]
  },
  {
   "cell_type": "markdown",
   "metadata": {},
   "source": [
    "# dictionary\n",
    "1. key should be unique\n",
    "2. key should be immutable\n",
    "\n"
   ]
  },
  {
   "cell_type": "code",
   "execution_count": 32,
   "metadata": {},
   "outputs": [
    {
     "data": {
      "text/plain": [
       "'python'"
      ]
     },
     "execution_count": 32,
     "metadata": {},
     "output_type": "execute_result"
    }
   ],
   "source": [
    "#syntax{key1:value1,key2:value2.........}\n",
    "dict1={\"name\":\"preethi\",\"course\":\"python\",\"address\":\"hyderabad\"}\n",
    "dict1[\"course\"]"
   ]
  },
  {
   "cell_type": "code",
   "execution_count": 33,
   "metadata": {},
   "outputs": [
    {
     "name": "stdout",
     "output_type": "stream",
     "text": [
      "{'name': 'preethi', 'course': 'c programming', 'address': 'hyderabad'}\n"
     ]
    }
   ],
   "source": [
    "#replace values\n",
    "dict1[\"course\"] = \"c programming\"\n",
    "print(dict1)"
   ]
  },
  {
   "cell_type": "code",
   "execution_count": 34,
   "metadata": {},
   "outputs": [
    {
     "name": "stdout",
     "output_type": "stream",
     "text": [
      "{'name': 'preethi', 'course': 'c programming', 'address': 'hyderabad', 'college': 'GITAM'}\n"
     ]
    }
   ],
   "source": [
    "#adding entry\n",
    "dict1[\"college\"] = \"GITAM\"\n",
    "print(dict1)"
   ]
  },
  {
   "cell_type": "code",
   "execution_count": 35,
   "metadata": {},
   "outputs": [
    {
     "name": "stdout",
     "output_type": "stream",
     "text": [
      "{'name': 'preethi', 'course': 'c programming', 'college': 'GITAM'}\n"
     ]
    }
   ],
   "source": [
    "#remove entry\n",
    "del dict1[\"address\"]\n",
    "print(dict1)"
   ]
  },
  {
   "cell_type": "markdown",
   "metadata": {},
   "source": [
    "## function:\n",
    "## def name_of_the_function(arg list):\n",
    "####     statements\n",
    "####     return"
   ]
  },
  {
   "cell_type": "code",
   "execution_count": 37,
   "metadata": {},
   "outputs": [
    {
     "name": "stdout",
     "output_type": "stream",
     "text": [
      "30\n",
      "300\n"
     ]
    }
   ],
   "source": [
    "def add(x,y):#function definition\n",
    "    return x+y\n",
    "print(add(10,20))#function calling\n",
    "print(add(100,200))"
   ]
  },
  {
   "cell_type": "code",
   "execution_count": 38,
   "metadata": {},
   "outputs": [
    {
     "name": "stdout",
     "output_type": "stream",
     "text": [
      "27\n"
     ]
    }
   ],
   "source": [
    "def square(x):\n",
    "    return x*x\n",
    "def cube(x):\n",
    "    return square(x)*x\n",
    "print(cube(3))"
   ]
  },
  {
   "cell_type": "code",
   "execution_count": null,
   "metadata": {},
   "outputs": [],
   "source": []
  }
 ],
 "metadata": {
  "kernelspec": {
   "display_name": "Python 3",
   "language": "python",
   "name": "python3"
  },
  "language_info": {
   "codemirror_mode": {
    "name": "ipython",
    "version": 3
   },
   "file_extension": ".py",
   "mimetype": "text/x-python",
   "name": "python",
   "nbconvert_exporter": "python",
   "pygments_lexer": "ipython3",
   "version": "3.7.4"
  }
 },
 "nbformat": 4,
 "nbformat_minor": 2
}
